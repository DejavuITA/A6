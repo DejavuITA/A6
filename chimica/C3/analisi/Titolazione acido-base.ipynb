{
 "metadata": {
  "name": "Titolazione acido-base"
 },
 "nbformat": 3,
 "nbformat_minor": 0,
 "worksheets": [
  {
   "cells": [
    {
     "cell_type": "code",
     "collapsed": false,
     "input": "%load frapa.py",
     "language": "python",
     "metadata": {},
     "outputs": [],
     "prompt_number": 8
    },
    {
     "cell_type": "code",
     "collapsed": false,
     "input": "%matplotlib inline",
     "language": "python",
     "metadata": {},
     "outputs": [],
     "prompt_number": 9
    },
    {
     "cell_type": "code",
     "collapsed": false,
     "input": "from matplotlib import pyplot\nfrom matplotlib import pyplot as plt\nimport numpy as np\n\nk = 1.6e-5\nw = 1e-14\nc = 0.01\n\npH = np.array(range(0, 1201)) / 100\ngv = np.vectorize(g)\nfi = gv(pH)\n\ndef g(x):\n    return k/(10**-x + k) + 1/c*(w/10**-x - 10**-x)\ngv = np.vectorize(g)\nfi = gv(pH)\n\ndef p(pH, fi):\n    plt.plot(pH, fi)\n    plt.xlim(0, 2)\n    plt.grid(True)\n    plt.show()\n    \np(fi, pH)",
     "language": "python",
     "metadata": {},
     "outputs": [
      {
       "metadata": {},
       "output_type": "display_data",
       "png": "[encoded data removed]",
       "text": "<matplotlib.figure.Figure at 0x7fd61b0b8be0>"
      }
     ],
     "prompt_number": 13
    },
    {
     "cell_type": "code",
     "collapsed": false,
     "input": "",
     "language": "python",
     "metadata": {},
     "outputs": []
    }
   ],
   "metadata": {}
  }
 ]
}